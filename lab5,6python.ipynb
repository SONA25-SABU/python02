{
  "cells": [
    {
      "cell_type": "code",
      "execution_count": null,
      "metadata": {
        "id": "bcle_x5F7khd"
      },
      "outputs": [],
      "source": []
    },
    {
      "cell_type": "markdown",
      "metadata": {
        "id": "hYA4rYyg7uED"
      },
      "source": [
        " Write a program to handle the exception of ZeroDivisionError\n",
        " [Handle the exceptions with ‘Try’, ‘Except’, ‘Finally’ and ‘Raise’ according to the requirements in the program.]\n"
      ]
    },
    {
      "cell_type": "code",
      "execution_count": null,
      "metadata": {
        "colab": {
          "base_uri": "https://localhost:8080/"
        },
        "id": "uYFxMWVj7vdE",
        "outputId": "8a2b03ea-805a-441a-d7a2-3825b653f014"
      },
      "outputs": [
        {
          "name": "stdout",
          "output_type": "stream",
          "text": [
            "Enter the numerator: 56\n",
            "Enter the denominator: 0\n",
            "Error: Division by zero is not allowed.\n",
            "Program execution completed.\n"
          ]
        }
      ],
      "source": [
        "try: # code that might raise an exception\n",
        "    numerator = float(input(\"Enter the numerator: \"))\n",
        "    denominator = float(input(\"Enter the denominator: \"))\n",
        "\n",
        "    if denominator == 0:\n",
        "        raise ZeroDivisionError(\"Error: Division by zero is not allowed.\") #if some_condition:raise CustomException(\"Some error message\")\n",
        "\n",
        "\n",
        "    result = numerator / denominator\n",
        "\n",
        "    print(f\"Result of division: {result}\")\n",
        "\n",
        "except ZeroDivisionError as zd_error: #except SomeExceptionType: ( code to handle the exception)\n",
        "    print(zd_error)\n",
        "except ValueError:# code to handle another exception\n",
        "    print(\"Error: Invalid input. Please enter valid numerical values.\")\n",
        "\n",
        "finally:#code that always executes\n",
        "    print(\"Program execution completed.\")\n"
      ]
    },
    {
      "cell_type": "markdown",
      "metadata": {
        "id": "7i1zf9F-QA9N"
      },
      "source": []
    },
    {
      "cell_type": "markdown",
      "metadata": {
        "id": "SdvewqHQQS-X"
      },
      "source": []
    },
    {
      "cell_type": "code",
      "execution_count": null,
      "metadata": {
        "id": "WmcZyiWuP8H0"
      },
      "outputs": [],
      "source": []
    },
    {
      "cell_type": "markdown",
      "metadata": {
        "id": "81L_gu_h7tbV"
      },
      "source": [
        "Write a program to handle the exception of IndexError.\n",
        "[Handle the exceptions with ‘Try’, ‘Except’, ‘Finally’ and ‘Raise’ according to the requirements in the program.]\n",
        "\n",
        "\n"
      ]
    },
    {
      "cell_type": "code",
      "execution_count": null,
      "metadata": {
        "colab": {
          "base_uri": "https://localhost:8080/"
        },
        "id": "CbOt0t8--c78",
        "outputId": "067ccae6-d3ef-41cc-d3b4-b08e0d72a11c"
      },
      "outputs": [
        {
          "name": "stdout",
          "output_type": "stream",
          "text": [
            "Enter an index: 6\n",
            "Error: Index out of range.\n",
            "Program execution completed.\n"
          ]
        }
      ],
      "source": [
        "try:\n",
        "    numbers = [1, 2, 3, 4, 5]\n",
        "    index = int(input(\"Enter an index: \"))\n",
        "\n",
        "    if index < 0 or index >= len(numbers):\n",
        "        raise IndexError(\"Error: Index out of range.\")\n",
        "\n",
        "    value = numbers[index]\n",
        "    print(f\"Value at index {index}: {value}\")\n",
        "\n",
        "except IndexError as ie_error:\n",
        "    print(ie_error)\n",
        "except ValueError:\n",
        "    print(\"Error: Invalid input. Please enter a valid index.\")\n",
        "\n",
        "finally:\n",
        "    print(\"Program execution completed.\")\n"
      ]
    },
    {
      "cell_type": "markdown",
      "metadata": {
        "id": "CTU9hwilQUtx"
      },
      "source": [
        "Write a program using the Regular Exception and create a function that accepts a string and searches it for a valid phone number.\n",
        "Return the phone number if found.\n",
        "A valid phone number may be one of the following:\n",
        "(xxx)-xxx-xxxx\n",
        "xxx-xxx-xxxx\n"
      ]
    },
    {
      "cell_type": "code",
      "execution_count": 1,
      "metadata": {
        "colab": {
          "base_uri": "https://localhost:8080/"
        },
        "id": "w8MfBC_UQWFL",
        "outputId": "75ce80a5-dbc2-4f66-db34-29e3b5fe6c68"
      },
      "outputs": [
        {
          "name": "stdout",
          "output_type": "stream",
          "text": [
            "(123)-456-7890\n"
          ]
        }
      ],
      "source": [
        "import re\n",
        "\n",
        "def find_phone_number(input_string):\n",
        "    pattern = r'\\(?\\d{3}\\)?-?\\d{3}-\\d{4}'\n",
        "    match = re.search(pattern, input_string)\n",
        "    if match:\n",
        "        return match.group()\n",
        "    else:\n",
        "        return \"No valid phone number found\"\n",
        "\n",
        "input_text = \"Here are some numbers: (123)-456-7890 and 987-654-3210\"\n",
        "phone_number = find_phone_number(input_text)\n",
        "print(phone_number)"
      ]
    },
    {
      "cell_type": "markdown",
      "metadata": {
        "id": "utKPYyAqRH47"
      },
      "source": [
        " Write a function that employs regular expressions to ensure the password given to the function is strong.\n",
        "A strong password is defined as follows:\n",
        "·       at least eight characters long\n",
        "·       contains one uppercase character\n",
        "·       contains one lowercase character\n",
        "·       has at least one digit\n",
        "·       has at least one special character\n",
        "[For instance: Christ@123]\n"
      ]
    },
    {
      "cell_type": "code",
      "execution_count": 2,
      "metadata": {
        "colab": {
          "base_uri": "https://localhost:8080/"
        },
        "id": "a6Tf6dqCRKB1",
        "outputId": "6c8c9140-dafc-421d-e0fa-7dd9fd137cd5"
      },
      "outputs": [
        {
          "name": "stdout",
          "output_type": "stream",
          "text": [
            "Password is not strong\n"
          ]
        }
      ],
      "source": [
        "import re\n",
        "\n",
        "def is_strong_password(password):\n",
        "\n",
        "    pattern = r\"^(?=.[A-Z])(?=.[a-z])(?=.\\d)(?=.[@#$%^&+=!]).{8,}$\"\n",
        "\n",
        "    if re.match(pattern, password):\n",
        "        return True\n",
        "    else:\n",
        "        return False\n",
        "\n",
        "password = \"Christ@123\"\n",
        "if is_strong_password(password):\n",
        "    print(\"Password is strong\")\n",
        "else:\n",
        "    print(\"Password is not strong\")"
      ]
    }
  ],
  "metadata": {
    "colab": {
      "provenance": []
    },
    "kernelspec": {
      "display_name": "Python 3",
      "name": "python3"
    },
    "language_info": {
      "name": "python"
    }
  },
  "nbformat": 4,
  "nbformat_minor": 0
}
